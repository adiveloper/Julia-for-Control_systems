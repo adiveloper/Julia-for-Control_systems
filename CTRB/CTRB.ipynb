{
 "cells": [
  {
   "cell_type": "code",
   "execution_count": 68,
   "metadata": {},
   "outputs": [],
   "source": [
    "import ControlSystems\n"
   ]
  },
  {
   "cell_type": "code",
   "execution_count": 72,
   "metadata": {},
   "outputs": [
    {
     "name": "stdout",
     "output_type": "stream",
     "text": [
      "[0 0; 1 2]The system is not controllable"
     ]
    }
   ],
   "source": [
    "## Xdot = AX + Bu\n",
    "\n",
    "Q = [-7 -2 6; 2 -3 -2; -2 -2 1]\n",
    "V= [1 1;1 -1;1 0]\n",
    "L= 3                    ##num of rows in Q\n",
    "\n",
    " function ctrb(A,B,T)    ##code similar to matlab  ## Function can be copied as it is and pasted in your code\n",
    "    n = size(A, 1)\n",
    "    nu = size(B, 2)\n",
    "    if n != size(B, 1)\n",
    "        error(\"B must have the same number of rows as A\")\n",
    "    end\n",
    "    res = fill(zero(T), n, n*nu) #intializing controllability matrix\n",
    "    res[:, 1:nu] = B             #first elelement of controllability matrix\n",
    "    for i=1:n-1                 #filling all other elelement of controllability matrix\n",
    "        res[:, (1 + i*nu):(1 + i)*nu] = A * res[:, ((i - 1)*nu + 1):i*nu]\n",
    "    end\n",
    "    return res\n",
    " end\n",
    "\n",
    "ctrb(Q,V,L);\n",
    "print(res)\n",
    "J=rank(res)\n",
    "if(J<L)\n",
    "    print(\"The system is not controllable\")\n",
    "    elseif(J==l)\n",
    "    print(\"The system is controllable\")\n",
    "        \n",
    "end\n"
   ]
  },
  {
   "cell_type": "code",
   "execution_count": null,
   "metadata": {},
   "outputs": [],
   "source": []
  }
 ],
 "metadata": {
  "kernelspec": {
   "display_name": "Julia 0.6.4",
   "language": "julia",
   "name": "julia-0.6"
  },
  "language_info": {
   "file_extension": ".jl",
   "mimetype": "application/julia",
   "name": "julia",
   "version": "0.6.4"
  }
 },
 "nbformat": 4,
 "nbformat_minor": 2
}
